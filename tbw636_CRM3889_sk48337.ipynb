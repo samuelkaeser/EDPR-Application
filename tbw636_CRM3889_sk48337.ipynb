{
 "cells": [
  {
   "cell_type": "markdown",
   "metadata": {},
   "source": [
    "# Lab 1"
   ]
  },
  {
   "cell_type": "markdown",
   "metadata": {},
   "source": [
    "## Rob Misasi (CRM3889)"
   ]
  },
  {
   "cell_type": "markdown",
   "metadata": {},
   "source": [
    "### 1."
   ]
  },
  {
   "cell_type": "markdown",
   "metadata": {},
   "source": [
    "Create 1000 samples from a Gaussian distribution with mean -10 and standard deviation 5. Create another 1000 samples from another independent Gaussian with mean 10 and standard deviation 5.\n",
    "\n",
    "\n",
    "1. Take the sum of 2 these Gaussians by adding the two sets of 1000 points, point by point, and plot the histogram of the resulting 1000 points. What do you observe?\n",
    "2. Estimate the mean and the variance of the sum."
   ]
  },
  {
   "cell_type": "markdown",
   "metadata": {},
   "source": [
    "### Answer"
   ]
  },
  {
   "cell_type": "markdown",
   "metadata": {},
   "source": [
    "#### 1.1 "
   ]
  },
  {
   "cell_type": "code",
   "execution_count": 1,
   "metadata": {},
   "outputs": [],
   "source": [
    "import numpy as np\n",
    "\n",
    "mu1, sigma1 = -10, 5\n",
    "mu2, sigma2 = 10, 5\n",
    "samples = 1000\n",
    "\n",
    "dis1 = np.random.normal(mu1, sigma1, samples)\n",
    "dis2 = np.random.normal(mu2, sigma2, samples)"
   ]
  },
  {
   "cell_type": "code",
   "execution_count": 2,
   "metadata": {},
   "outputs": [
    {
     "data": {
      "text/plain": [
       "(array([  6.,   4.,  10.,  21.,  51.,  64., 132., 144., 173., 137., 104.,\n",
       "         88.,  43.,  15.,   6.,   2.]),\n",
       " array([-23.76580287, -20.9453812 , -18.12495952, -15.30453784,\n",
       "        -12.48411617,  -9.66369449,  -6.84327281,  -4.02285113,\n",
       "         -1.20242946,   1.61799222,   4.4384139 ,   7.25883558,\n",
       "         10.07925725,  12.89967893,  15.72010061,  18.54052229,\n",
       "         21.36094396]),\n",
       " <a list of 16 Patch objects>)"
      ]
     },
     "execution_count": 2,
     "metadata": {},
     "output_type": "execute_result"
    }
   ],
   "source": [
    "import matplotlib.pyplot as plt\n",
    "\n",
    "dis3 = dis1 + dis2\n",
    "fig = plt.figure()\n",
    "plt.hist(dis3, bins=16)"
   ]
  },
  {
   "cell_type": "markdown",
   "metadata": {},
   "source": [
    "We observe that the sum of the original sets is roughly centered around a mean of zero. The values also lie mostly between extremes of -20 and 20, indicating that the variance has increased."
   ]
  },
  {
   "cell_type": "markdown",
   "metadata": {},
   "source": [
    "#### 1.2"
   ]
  },
  {
   "cell_type": "markdown",
   "metadata": {},
   "source": [
    "The estimated mean is 0 and the estimated variance is 50. We can observe the estimated mean in the plot above. The estimated variance is taken by summing the individual variances of each random variable, since they are independent and uncorrelated."
   ]
  },
  {
   "cell_type": "markdown",
   "metadata": {},
   "source": [
    "### 2."
   ]
  },
  {
   "cell_type": "markdown",
   "metadata": {},
   "source": [
    "*Central Limit Theorem*. Let $X_i$ be an iid Bernoulli random variable with value $\\{-1,1\\}$.\n",
    "Look at the random variable $Z_n = \\frac{1}{n} \\sum X_i$. By taking 1000 draws from $Z_n$, plot its histogram. Check that for small $n$ (say, $5-10$) $Z_n$ does not look that much like a Gaussian, but when $n$ is bigger (already by the time $n = 30$ or $50$) it looks much more like a Gaussian. Check also for much bigger $n: n = 250$, to see that at this point, one can really see the bell curve."
   ]
  },
  {
   "cell_type": "markdown",
   "metadata": {},
   "source": [
    "### Answer"
   ]
  },
  {
   "cell_type": "code",
   "execution_count": 3,
   "metadata": {},
   "outputs": [
    {
     "data": {
      "image/png": "[encoded data removed]",
      "text/plain": [
       "<Figure size 432x288 with 1 Axes>"
      ]
     },
     "metadata": {
      "needs_background": "light"
     },
     "output_type": "display_data"
    }
   ],
   "source": [
    "draws = 1000\n",
    "ns = [5, 10, 30, 50, 250]\n",
    "p = 0.5\n",
    "\n",
    "def clt(n, p, draws, bins=None):\n",
    "    res = np.random.binomial(n, p, draws)\n",
    "    #print(res)\n",
    "    actual = []\n",
    "    for ans in res:\n",
    "        actual.append(ans - (n - ans))\n",
    "    #print(actual)\n",
    "    plt.hist(actual, bins=bins)\n",
    "    \n",
    "clt(ns[0], p, draws)"
   ]
  },
  {
   "cell_type": "code",
   "execution_count": 4,
   "metadata": {},
   "outputs": [
    {
     "data": {
      "image/png": "[encoded data removed]",
      "text/plain": [
       "<Figure size 432x288 with 1 Axes>"
      ]
     },
     "metadata": {
      "needs_background": "light"
     },
     "output_type": "display_data"
    }
   ],
   "source": [
    "clt(ns[1], p, draws)"
   ]
  },
  {
   "cell_type": "code",
   "execution_count": 5,
   "metadata": {},
   "outputs": [
    {
     "data": {
      "image/png": "[encoded data removed]",
      "text/plain": [
       "<Figure size 432x288 with 1 Axes>"
      ]
     },
     "metadata": {
      "needs_background": "light"
     },
     "output_type": "display_data"
    }
   ],
   "source": [
    "clt(ns[2], p, draws, bins=10)"
   ]
  },
  {
   "cell_type": "code",
   "execution_count": 6,
   "metadata": {},
   "outputs": [
    {
     "data": {
      "image/png": "[encoded data removed]",
      "text/plain": [
       "<Figure size 432x288 with 1 Axes>"
      ]
     },
     "metadata": {
      "needs_background": "light"
     },
     "output_type": "display_data"
    }
   ],
   "source": [
    "clt(ns[3], p, draws, bins=12)"
   ]
  },
  {
   "cell_type": "code",
   "execution_count": 7,
   "metadata": {},
   "outputs": [
    {
     "data": {
      "image/png": "[encoded data removed]",
      "text/plain": [
       "<Figure size 432x288 with 1 Axes>"
      ]
     },
     "metadata": {
      "needs_background": "light"
     },
     "output_type": "display_data"
    }
   ],
   "source": [
    "clt(ns[4], p, draws, bins=16)"
   ]
  },
  {
   "cell_type": "markdown",
   "metadata": {},
   "source": [
    "### 3."
   ]
  },
  {
   "cell_type": "markdown",
   "metadata": {},
   "source": [
    "Estimate the mean and standard deviation from $1$ dimensional data: generate $25,000$ samples from a Gaussian distribution with mean $0$ and standard deviation $5$. Then estimate the mean and standard deviation of this gaussian using elementary numpy commands, i.e., addition, multiplication, division (do not use a command that takes data and returns the mean or standard deviation)."
   ]
  },
  {
   "cell_type": "markdown",
   "metadata": {},
   "source": [
    "### Answer"
   ]
  },
  {
   "cell_type": "code",
   "execution_count": 8,
   "metadata": {},
   "outputs": [
    {
     "name": "stdout",
     "output_type": "stream",
     "text": [
      "Estimated Expectation: 0.03335134145767875\n",
      "Estimated Variance: 25.205651592703678\n"
     ]
    }
   ],
   "source": [
    "mu, sigma, samples = 0, 5, 25000\n",
    "\n",
    "dist = np.random.normal(mu, sigma, samples)\n",
    "expectation = sum(dist)/samples\n",
    "print(\"Estimated Expectation: {0}\".format(expectation))\n",
    "variance = sum([(x - expectation)**2 for x in dist]) / (samples - 1)\n",
    "print(\"Estimated Variance: {0}\".format(variance))"
   ]
  },
  {
   "cell_type": "markdown",
   "metadata": {},
   "source": [
    "### 4."
   ]
  },
  {
   "cell_type": "markdown",
   "metadata": {},
   "source": [
    "### Answer"
   ]
  },
  {
   "cell_type": "code",
   "execution_count": 9,
   "metadata": {},
   "outputs": [
    {
     "name": "stdout",
     "output_type": "stream",
     "text": [
      "[[-14.03368474  10.56266324]\n",
      " [  0.19457499  15.65576479]\n",
      " [ -2.89794455  -2.17847601]\n",
      " ...\n",
      " [ -0.07425925  -0.19359601]\n",
      " [ -4.86618676   2.92454537]\n",
      " [ -3.80518271   0.88045192]]\n"
     ]
    }
   ],
   "source": [
    "mu = [-5, 5]\n",
    "cov = [[20, 0.8], [0.8, 30]]\n",
    "samples = 10000\n",
    "dist = np.random.multivariate_normal(mu, cov, samples)\n",
    "print(dist)"
   ]
  },
  {
   "cell_type": "code",
   "execution_count": 10,
   "metadata": {},
   "outputs": [
    {
     "name": "stdout",
     "output_type": "stream",
     "text": [
      "X mean: -4.942266426091552\n",
      "Y mean: 5.103133820795596\n",
      "Var(X) = 19.877796646766463\n",
      "Var(y) = 29.906750900465493\n",
      "Covariance: [[19.877796646766463, 0.797137112347493], [0.797137112347493, 29.906750900465493]\n"
     ]
    }
   ],
   "source": [
    "X = dist[:, 0]\n",
    "Y = dist[:, 1]\n",
    "\n",
    "X_mean = sum(X)/samples\n",
    "Y_mean = sum(Y)/samples\n",
    "\n",
    "X_var = sum([(x - X_mean)**2 for x in X])/(samples - 1)\n",
    "Y_var = sum([(y - Y_mean)**2 for y in Y])/(samples - 1)\n",
    "\n",
    "X_sub_mean = [x - X_mean for x in X]\n",
    "Y_sub_mean = [y - Y_mean for y in Y]\n",
    "\n",
    "cov = sum([(x)*(y) for x, y in zip(X_sub_mean, Y_sub_mean)])/(samples-1)\n",
    "print(\"X mean: {0}\".format(X_mean))\n",
    "print(\"Y mean: {0}\".format(Y_mean))\n",
    "print(\"Var(X) = {0}\".format(X_var))\n",
    "print(\"Var(y) = {0}\".format(Y_var))\n",
    "print(\"Covariance: [[{0}, {1}], [{1}, {2}]]\".format(X_var, cov, Y_var))"
   ]
  },
  {
   "cell_type": "markdown",
   "metadata": {},
   "source": [
    "### 5."
   ]
  },
  {
   "cell_type": "markdown",
   "metadata": {},
   "source": [
    "Each row is a patient and the last column is the condition that the patient has. Do data exploration using Pandas and other visualization tools to understand what you can about the dataset. For example:\n",
    "1. How many patients and how many features are there?\n",
    "2. What is the meaning of the first 4 features? See if you can understand what they mean.\n",
    "3. Are there missing values? Replace them with the average of the corresponding feature column\n",
    "4. How could you test which features strongly influence the patient condition and which do not?\n",
    "\n",
    "List what you think are the three most important features."
   ]
  },
  {
   "cell_type": "code",
   "execution_count": 42,
   "metadata": {},
   "outputs": [
    {
     "data": {
      "text/html": [
       "<div>\n",
       "<style scoped>\n",
       "    .dataframe tbody tr th:only-of-type {\n",
       "        vertical-align: middle;\n",
       "    }\n",
       "\n",
       "    .dataframe tbody tr th {\n",
       "        vertical-align: top;\n",
       "    }\n",
       "\n",
       "    .dataframe thead th {\n",
       "        text-align: right;\n",
       "    }\n",
       "</style>\n",
       "<table border=\"1\" class=\"dataframe\">\n",
       "  <thead>\n",
       "    <tr style=\"text-align: right;\">\n",
       "      <th></th>\n",
       "      <th>75</th>\n",
       "      <th>0</th>\n",
       "      <th>190</th>\n",
       "      <th>80</th>\n",
       "      <th>91</th>\n",
       "      <th>193</th>\n",
       "      <th>371</th>\n",
       "      <th>174</th>\n",
       "      <th>121</th>\n",
       "      <th>-16</th>\n",
       "      <th>...</th>\n",
       "      <th>0.0.38</th>\n",
       "      <th>9.0</th>\n",
       "      <th>-0.9</th>\n",
       "      <th>0.0.39</th>\n",
       "      <th>0.0.40</th>\n",
       "      <th>0.9.3</th>\n",
       "      <th>2.9.1</th>\n",
       "      <th>23.3</th>\n",
       "      <th>49.4</th>\n",
       "      <th>8</th>\n",
       "    </tr>\n",
       "  </thead>\n",
       "  <tbody>\n",
       "    <tr>\n",
       "      <th>0</th>\n",
       "      <td>56</td>\n",
       "      <td>1</td>\n",
       "      <td>165</td>\n",
       "      <td>64</td>\n",
       "      <td>81</td>\n",
       "      <td>174</td>\n",
       "      <td>401</td>\n",
       "      <td>149</td>\n",
       "      <td>39</td>\n",
       "      <td>25</td>\n",
       "      <td>...</td>\n",
       "      <td>0.0</td>\n",
       "      <td>8.5</td>\n",
       "      <td>0.0</td>\n",
       "      <td>0.0</td>\n",
       "      <td>0.0</td>\n",
       "      <td>0.2</td>\n",
       "      <td>2.1</td>\n",
       "      <td>20.4</td>\n",
       "      <td>38.8</td>\n",
       "      <td>6</td>\n",
       "    </tr>\n",
       "    <tr>\n",
       "      <th>1</th>\n",
       "      <td>54</td>\n",
       "      <td>0</td>\n",
       "      <td>172</td>\n",
       "      <td>95</td>\n",
       "      <td>138</td>\n",
       "      <td>163</td>\n",
       "      <td>386</td>\n",
       "      <td>185</td>\n",
       "      <td>102</td>\n",
       "      <td>96</td>\n",
       "      <td>...</td>\n",
       "      <td>0.0</td>\n",
       "      <td>9.5</td>\n",
       "      <td>-2.4</td>\n",
       "      <td>0.0</td>\n",
       "      <td>0.0</td>\n",
       "      <td>0.3</td>\n",
       "      <td>3.4</td>\n",
       "      <td>12.3</td>\n",
       "      <td>49.0</td>\n",
       "      <td>10</td>\n",
       "    </tr>\n",
       "    <tr>\n",
       "      <th>2</th>\n",
       "      <td>55</td>\n",
       "      <td>0</td>\n",
       "      <td>175</td>\n",
       "      <td>94</td>\n",
       "      <td>100</td>\n",
       "      <td>202</td>\n",
       "      <td>380</td>\n",
       "      <td>179</td>\n",
       "      <td>143</td>\n",
       "      <td>28</td>\n",
       "      <td>...</td>\n",
       "      <td>0.0</td>\n",
       "      <td>12.2</td>\n",
       "      <td>-2.2</td>\n",
       "      <td>0.0</td>\n",
       "      <td>0.0</td>\n",
       "      <td>0.4</td>\n",
       "      <td>2.6</td>\n",
       "      <td>34.6</td>\n",
       "      <td>61.6</td>\n",
       "      <td>1</td>\n",
       "    </tr>\n",
       "    <tr>\n",
       "      <th>3</th>\n",
       "      <td>75</td>\n",
       "      <td>0</td>\n",
       "      <td>190</td>\n",
       "      <td>80</td>\n",
       "      <td>88</td>\n",
       "      <td>181</td>\n",
       "      <td>360</td>\n",
       "      <td>177</td>\n",
       "      <td>103</td>\n",
       "      <td>-16</td>\n",
       "      <td>...</td>\n",
       "      <td>0.0</td>\n",
       "      <td>13.1</td>\n",
       "      <td>-3.6</td>\n",
       "      <td>0.0</td>\n",
       "      <td>0.0</td>\n",
       "      <td>-0.1</td>\n",
       "      <td>3.9</td>\n",
       "      <td>25.4</td>\n",
       "      <td>62.8</td>\n",
       "      <td>7</td>\n",
       "    </tr>\n",
       "    <tr>\n",
       "      <th>4</th>\n",
       "      <td>13</td>\n",
       "      <td>0</td>\n",
       "      <td>169</td>\n",
       "      <td>51</td>\n",
       "      <td>100</td>\n",
       "      <td>167</td>\n",
       "      <td>321</td>\n",
       "      <td>174</td>\n",
       "      <td>91</td>\n",
       "      <td>107</td>\n",
       "      <td>...</td>\n",
       "      <td>-0.6</td>\n",
       "      <td>12.2</td>\n",
       "      <td>-2.8</td>\n",
       "      <td>0.0</td>\n",
       "      <td>0.0</td>\n",
       "      <td>0.9</td>\n",
       "      <td>2.2</td>\n",
       "      <td>13.5</td>\n",
       "      <td>31.1</td>\n",
       "      <td>14</td>\n",
       "    </tr>\n",
       "  </tbody>\n",
       "</table>\n",
       "<p>5 rows × 280 columns</p>\n",
       "</div>"
      ],
      "text/plain": [
       "   75  0  190  80   91  193  371  174  121  -16  ... 0.0.38   9.0  -0.9  \\\n",
       "0  56  1  165  64   81  174  401  149   39   25  ...    0.0   8.5   0.0   \n",
       "1  54  0  172  95  138  163  386  185  102   96  ...    0.0   9.5  -2.4   \n",
       "2  55  0  175  94  100  202  380  179  143   28  ...    0.0  12.2  -2.2   \n",
       "3  75  0  190  80   88  181  360  177  103  -16  ...    0.0  13.1  -3.6   \n",
       "4  13  0  169  51  100  167  321  174   91  107  ...   -0.6  12.2  -2.8   \n",
       "\n",
       "  0.0.39 0.0.40 0.9.3 2.9.1  23.3  49.4   8  \n",
       "0    0.0    0.0   0.2   2.1  20.4  38.8   6  \n",
       "1    0.0    0.0   0.3   3.4  12.3  49.0  10  \n",
       "2    0.0    0.0   0.4   2.6  34.6  61.6   1  \n",
       "3    0.0    0.0  -0.1   3.9  25.4  62.8   7  \n",
       "4    0.0    0.0   0.9   2.2  13.5  31.1  14  \n",
       "\n",
       "[5 rows x 280 columns]"
      ]
     },
     "execution_count": 42,
     "metadata": {},
     "output_type": "execute_result"
    }
   ],
   "source": [
    "import pandas as pd\n",
    "\n",
    "patient_data = pd.read_csv('PatientData.csv', dtype=\"object\")\n",
    "patient_data.head()"
   ]
  },
  {
   "cell_type": "code",
   "execution_count": 43,
   "metadata": {},
   "outputs": [
    {
     "data": {
      "text/plain": [
       "(451, 280)"
      ]
     },
     "execution_count": 43,
     "metadata": {},
     "output_type": "execute_result"
    }
   ],
   "source": [
    "patient_data.shape"
   ]
  },
  {
   "cell_type": "markdown",
   "metadata": {},
   "source": [
    "### Answer "
   ]
  },
  {
   "cell_type": "markdown",
   "metadata": {},
   "source": [
    "#### 5.1"
   ]
  },
  {
   "cell_type": "markdown",
   "metadata": {},
   "source": [
    "There are 451 patients and 280 features"
   ]
  },
  {
   "cell_type": "markdown",
   "metadata": {},
   "source": [
    "#### 5.2"
   ]
  },
  {
   "cell_type": "markdown",
   "metadata": {},
   "source": [
    "Feature 0: Age in years\n",
    "\n",
    "Feature 1: Gender\n",
    "\n",
    "Feature 2: Height in centimeters\n",
    "\n",
    "Feature 3: Weight in kilograms"
   ]
  },
  {
   "cell_type": "markdown",
   "metadata": {},
   "source": [
    "#### 5.3"
   ]
  },
  {
   "cell_type": "markdown",
   "metadata": {},
   "source": [
    "Yes, some columns, like column 13, contain missing values."
   ]
  },
  {
   "cell_type": "code",
   "execution_count": 55,
   "metadata": {},
   "outputs": [
    {
     "name": "stdout",
     "output_type": "stream",
     "text": [
      "[[ 56.    1.  165.  ...  20.4  38.8   6. ]\n",
      " [ 54.    0.  172.  ...  12.3  49.   10. ]\n",
      " [ 55.    0.  175.  ...  34.6  61.6   1. ]\n",
      " ...\n",
      " [ 36.    0.  166.  ... -44.2 -33.2   2. ]\n",
      " [ 32.    1.  155.  ...  25.   46.6   1. ]\n",
      " [ 78.    1.  160.  ...  21.3  32.8   1. ]]\n"
     ]
    }
   ],
   "source": [
    "for i in range (patient_data.shape[0]):\n",
    "    col_sum = 0\n",
    "    count = 0\n",
    "    for j in range(patient_data.shape[1]):\n",
    "        if (patient_data.values[i][j] == '?'):\n",
    "            continue\n",
    "        col_sum += float(patient_data.values[i][j])\n",
    "        count += 1\n",
    "        \n",
    "    col_avg = col_sum/count\n",
    "    for j in range(patient_data.shape[1]):\n",
    "        if (patient_data.values[i][j] == '?'):\n",
    "            patient_data.values[i][j] = str(col_avg)\n",
    "            \n",
    "patient_data = patient_data.astype(\"float\")\n",
    "print(patient_data.values)"
   ]
  },
  {
   "cell_type": "markdown",
   "metadata": {},
   "source": [
    "#### 5.4"
   ]
  },
  {
   "cell_type": "markdown",
   "metadata": {},
   "source": [
    "If we run linear regression on the data set, the magnitude of the coefficients $\\beta_1,...,\\beta_n$ will tell us which features have the biggest impact on the label. The larger the magnitude of the coefficient, the larger its influence."
   ]
  },
  {
   "cell_type": "code",
   "execution_count": 70,
   "metadata": {},
   "outputs": [
    {
     "name": "stdout",
     "output_type": "stream",
     "text": [
      "Index: 234   Beta coefficient value: -377.0213913830571\n",
      "Index: 244   Beta coefficient value: 163.84533435831474\n",
      "Index: 254   Beta coefficient value: 115.29176947667432\n"
     ]
    }
   ],
   "source": [
    "from sklearn import linear_model as lm\n",
    "model = lm.LinearRegression()\n",
    "X = [row[0:len(row) - 1] for row in patient_data.values]\n",
    "y = [row[len(row) - 1] for row in patient_data.values]\n",
    "model.fit(X,y)\n",
    "beta = model.coef_\n",
    "rank = np.argsort([abs(b) for b in beta])\n",
    "for i in range(3):\n",
    "    index = rank[-1 * i - 1]\n",
    "    print(\"Index: \" + str(index) + \"   Beta coefficient value: \" + str(beta[index]))"
   ]
  },
  {
   "cell_type": "markdown",
   "metadata": {},
   "source": [
    "The 3 most important features are displayed above in order of the magnitude of their coefficients. These come from the solution to the emperical risk minimization problem under the assumption that the patients' conditions is a numerical quantity."
   ]
  },
  {
   "cell_type": "markdown",
   "metadata": {},
   "source": [
    "## Written Questions"
   ]
  },
  {
   "cell_type": "markdown",
   "metadata": {},
   "source": [
    "### 1. "
   ]
  },
  {
   "cell_type": "markdown",
   "metadata": {},
   "source": [
    "### Answer "
   ]
  },
  {
   "cell_type": "markdown",
   "metadata": {},
   "source": [
    "#### 1.1"
   ]
  },
  {
   "cell_type": "markdown",
   "metadata": {},
   "source": [
    "$P(X = 1) = \\frac{7}{12}$"
   ]
  },
  {
   "cell_type": "markdown",
   "metadata": {},
   "source": [
    "#### 1.2"
   ]
  },
  {
   "cell_type": "markdown",
   "metadata": {},
   "source": [
    "$P(X = 1 | Y=1) = \\frac{2}{3}$"
   ]
  },
  {
   "cell_type": "markdown",
   "metadata": {},
   "source": [
    "#### 1.3"
   ]
  },
  {
   "cell_type": "markdown",
   "metadata": {},
   "source": [
    "$Var(X) = E\\left[X^2\\right] - {E\\left[X\\right]}^2$\n",
    "\n",
    "$= \\frac{7}{12} - \\frac{49}{144}$\n",
    "\n",
    "$= \\frac{84}{144} - \\frac{49}{144}$\n",
    "\n",
    "$= \\frac{35}{144}$"
   ]
  },
  {
   "cell_type": "markdown",
   "metadata": {},
   "source": [
    "#### 1.4"
   ]
  },
  {
   "cell_type": "markdown",
   "metadata": {},
   "source": [
    "$Var(X | Y=1) = E \\left[ X^2 | Y=1 \\right] - {E \\left[ X| Y=1 \\right]}^2$ \n",
    "\n",
    "$= \\frac{2}{3} - {\\left(\\frac{2}{3}\\right)}^2$\n",
    "\n",
    "$= \\frac{6}{9} - {\\frac{4}{9}}$\n",
    "\n",
    "$= \\frac{2}{9}$"
   ]
  },
  {
   "cell_type": "markdown",
   "metadata": {},
   "source": [
    "#### 1.5"
   ]
  },
  {
   "cell_type": "markdown",
   "metadata": {},
   "source": [
    "$E\\left[X^3 + X^2 + 3Y^7 | Y = 1\\right]$\n",
    "\n",
    "$= E\\left[X^3 + X^2 | Y=1\\right] + 3$\n",
    "\n",
    "$= E\\left[X^3 | Y=1\\right] E\\left[X^2|Y=1\\right] + 3$\n",
    "\n",
    "$= \\frac{2}{3} + \\frac{2}{3} + 3$\n",
    "\n",
    "$= \\frac{13}{3}$"
   ]
  },
  {
   "cell_type": "markdown",
   "metadata": {},
   "source": [
    "#### 2."
   ]
  },
  {
   "cell_type": "markdown",
   "metadata": {},
   "source": [
    "We can construct an orthogonal basis $\\{\\mathbf{u}_1,\\mathbf{u}_2\\}$ for the subspace $V$\n",
    "from the given vectors $\\{\\mathbf{v}_1,\\mathbf{v}_2\\}$ using the Gram-Schmidt process.\n",
    "\n",
    "Once we have our orthogonal basis we can construct the orthogonal projection of any point $\\mathbf{p}$ onto the subspace with the formula:\n",
    "$\\mathrm{proj}_V\\mathbf{p} = \\frac{\\langle \\mathbf{p}, \\mathbf{u}_1\\rangle}{\\|\\mathbf{u}_1\\|^2}\\mathbf{u}_1\n",
    " + \\frac{\\langle \\mathbf{p}, \\mathbf{u}_2\\rangle}{\\|\\mathbf{u}_2\\|^2}\\mathbf{u}_2$\n",
    " \n",
    "Once we have obtained $\\mathrm{proj}_V\\mathbf{p}$, the coordinates of the point $\\mathbf{p}$ can be found by solving the equation $\\mathbf{Ax}=\\mathbf{b}$ for $\\mathbf{x}$, where $\\mathbf{A}=(\\mathbf{v}_1\\mathbf{v}_2)$ and $\\mathbf{b}=\\mathrm{proj}_V\\mathbf{p}$. Since $\\mathbf{b}\\in V$ the equation will be consistent.\n",
    "\n",
    "Since the columns of $\\mathbf{A}$ are linearly independent, $\\mathbf{A}^T\\mathbf{A}$ has an inverse. Thus the system has the solution $\\mathbf{x} = \\left(\\mathbf{A}^T\\mathbf{A}\\right)^{-1}\\mathbf{A}^T\\mathbf{b}$. The vector $\\mathbf{x}$ is the coordinates of $\\mathbf{p}$ with respect to the basis $\\{\\mathbf{v}_1,\\mathbf{v}_2\\}$."
   ]
  },
  {
   "cell_type": "code",
   "execution_count": 35,
   "metadata": {
    "scrolled": true
   },
   "outputs": [
    {
     "name": "stdout",
     "output_type": "stream",
     "text": [
      "The point [3 3 3] turns into [3. 3. 3.] when projected onto the subspace spanned by v1 and v2\n",
      "The point [1 2 3] turns into [1.  2.5 2.5] when projected onto the subspace spanned by v1 and v2\n",
      "The point [0 0 1] turns into [0.  0.5 0.5] when projected onto the subspace spanned by v1 and v2\n",
      "\n",
      "The coordinates of p1 with respect to the basis {v1, v2} is (3.0,0.0)\n",
      "The coordinates of p2 with respect to the basis {v1, v2} is (2.5,-1.5)\n",
      "The coordinates of p3 with respect to the basis {v1, v2} is (0.5,-0.5)\n"
     ]
    }
   ],
   "source": [
    "import numpy as np\n",
    "\n",
    "v1 = np.asarray([1, 1, 1])\n",
    "v2 = np.asarray([1, 0 ,0])\n",
    "\n",
    "# Create the orthonormal basis\n",
    "u1 = v2\n",
    "u2 = v1 - (v1.dot(u1) * u1)/(np.linalg.norm(u1)**2)\n",
    "\n",
    "p1 = np.asarray([3, 3, 3])\n",
    "p2 = np.asarray([1, 2, 3])\n",
    "p3 = np.asarray([0, 0, 1])\n",
    "\n",
    "def project(u, v):\n",
    "    u1 = u[0]\n",
    "    u2 = u[1]\n",
    "    \n",
    "    return (u1.dot(v) * u1)/(np.linalg.norm(u1)**2) + (u2.dot(v) * u2) / (np.linalg.norm(u2)**2)\n",
    "\n",
    "proj_p1 = project([u1, u2], p1)\n",
    "proj_p2 = project([u1, u2], p2)\n",
    "proj_p3 = project([u1, u2], p3)\n",
    "\n",
    "print(\"The point {0} turns into {1} when projected onto the subspace spanned by v1 and v2\".format(p1, project([u1, u2], p1)))\n",
    "print(\"The point {0} turns into {1} when projected onto the subspace spanned by v1 and v2\".format(p2, project([u1, u2], p2)))\n",
    "print(\"The point {0} turns into {1} when projected onto the subspace spanned by v1 and v2\".format(p3, project([u1, u2], p3)))\n",
    "\n",
    "A = np.asarray([[1,1],\n",
    "                [1,0],\n",
    "                [1,0]])\n",
    "def coordinates(A, p):\n",
    "    mul = np.matmul\n",
    "    inv = np.linalg.inv\n",
    "    return mul(inv(mul(A.T,A)),A.T.dot(p))\n",
    "\n",
    "c1 = coordinates(A, p1)\n",
    "c2 = coordinates(A, p2)\n",
    "c3 = coordinates(A, p3)\n",
    "\n",
    "print(\"\\nThe coordinates of p1 with respect to the basis {{v1, v2}} is ({0:.2},{1:.2})\".format(c1[0], c1[1]))\n",
    "print(\"The coordinates of p2 with respect to the basis {{v1, v2}} is ({0:.2},{1:.2})\".format(c2[0], c2[1]))\n",
    "print(\"The coordinates of p3 with respect to the basis {{v1, v2}} is ({0:.2},{1:.2})\".format(c3[0], c3[1]))\n"
   ]
  },
  {
   "cell_type": "markdown",
   "metadata": {},
   "source": [
    "#### 3."
   ]
  },
  {
   "cell_type": "markdown",
   "metadata": {},
   "source": [
    "We can estimate the probability of getting 50 or fewer heads with the central limit theorem:\n",
    "$P\\left(S_{100}\\leq50\\right)=P\\left(\\frac{S_{100}-(100)E[X_i]}{\\sqrt{100\\mathrm{Var}(X_i)}}\\leq\\frac{50-(100)E[X_i]}{\\sqrt{100\\mathrm{Var}(X_i)}}\\right)\\approx P\\left(Z\\leq\\frac{50-(100)E[X_i]}{\\sqrt{100\\mathrm{Var}(X_i)}}\\right)$<br>\n",
    "Every $X_i$ is a Bernoulli random variable with $p=\\frac{2}{3}$ so $E[X_i]=\\frac{2}{3}$ and $\\mathrm{Var}(X_i)=\\frac{2}{3}\\left(1-\\frac{2}{3}\\right)=\\frac{2}{9}$<br>\n",
    "So the probability we want is:\n",
    "$P\\left(S_{100}\\leq50\\right)\\approx P\\left(Z\\leq\\frac{50-(100)\\frac{2}{3}}{\\sqrt{(100)\\frac{2}{9}}}\\right)=P\\left(Z<\\frac{-5}{\\sqrt{2}}\\right)=\\Phi\\left(\\frac{-5}{\\sqrt{2}}\\right)\\approx0.000204$"
   ]
  },
  {
   "cell_type": "markdown",
   "metadata": {},
   "source": [
    "We can also calculate the probability directly since $S_{100}\\sim\\mathrm{Binomial}\\left(100,\\frac{2}{3}\\right)$:<br>\n",
    "$P\\left(S_{100}\\leq50\\right)=\\sum_{i=0}^50\\binom{100}{i}\\left(\\frac{2}{3}\\right)^i\\left(1-\\frac{2}{3}\\right)^{100-i}$"
   ]
  },
  {
   "cell_type": "code",
   "execution_count": 45,
   "metadata": {
    "scrolled": true
   },
   "outputs": [
    {
     "name": "stdout",
     "output_type": "stream",
     "text": [
      "The probability of flipping 50 or fewer heads is 0.00041934108267445034\n"
     ]
    }
   ],
   "source": [
    "from scipy import special\n",
    "\n",
    "prob_sum = 0.0\n",
    "p = 2/3\n",
    "prob_sum = 0 #misc.comb(100, 50) * p**50 + i*(1-p)**50\n",
    "for i in range(51):\n",
    "   prob_sum += ((special.comb(100, i) * p**i )*(1-p)**(100-i))\n",
    "print(\"The probability of flipping 50 or fewer heads is {0}\".format(prob_sum))"
   ]
  },
  {
   "cell_type": "markdown",
   "metadata": {},
   "source": []
  },
  {
   "cell_type": "code",
   "execution_count": null,
   "metadata": {},
   "outputs": [],
   "source": []
  }
 ],
 "metadata": {
  "kernelspec": {
   "display_name": "Python 3",
   "language": "python",
   "name": "python3"
  },
  "language_info": {
   "codemirror_mode": {
    "name": "ipython",
    "version": 3
   },
   "file_extension": ".py",
   "mimetype": "text/x-python",
   "name": "python",
   "nbconvert_exporter": "python",
   "pygments_lexer": "ipython3",
   "version": "3.6.7"
  }
 },
 "nbformat": 4,
 "nbformat_minor": 2
}
